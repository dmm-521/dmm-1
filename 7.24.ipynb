{
 "cells": [
  {
   "cell_type": "markdown",
   "metadata": {},
   "source": [
    "# 更多字符串和特殊方法\n",
    "- 前面我们已经学了类，在Python中还有一些特殊的方法起着非常重要的作用，这里会介绍一些特殊的方法和运算符的重载，以及使用特殊方法设计类"
   ]
  },
  {
   "cell_type": "markdown",
   "metadata": {},
   "source": [
    "## str 类\n",
    "- 一个str对象是不可变的，也就是说，一旦创建了这个字符串，那么它的内容在认为不改变的情况下是不会变的\n",
    "- s1 = str()\n",
    "- s2 = str('welcome to Python')"
   ]
  },
  {
   "cell_type": "code",
   "execution_count": 6,
   "metadata": {},
   "outputs": [
    {
     "data": {
      "text/plain": [
       "'100Joker'"
      ]
     },
     "execution_count": 6,
     "metadata": {},
     "output_type": "execute_result"
    }
   ],
   "source": [
    "a = 100\n",
    "b = str(a)\n",
    "b + 'Joker'"
   ]
  },
  {
   "cell_type": "markdown",
   "metadata": {},
   "source": [
    "## 创建两个对象，分别观察两者id\n",
    "- id为Python内存地址"
   ]
  },
  {
   "cell_type": "code",
   "execution_count": 13,
   "metadata": {},
   "outputs": [
    {
     "name": "stdout",
     "output_type": "stream",
     "text": [
      "4396927720 4399438792\n"
     ]
    }
   ],
   "source": [
    "a = 'a'\n",
    "b = 'ab' \n",
    "print(id(a),id(b))"
   ]
  },
  {
   "cell_type": "markdown",
   "metadata": {},
   "source": [
    "## 处理字符串的函数\n",
    "- len\n",
    "- max\n",
    "- min\n",
    "- 字符串一切是按照ASCII码值进行比较"
   ]
  },
  {
   "cell_type": "code",
   "execution_count": 20,
   "metadata": {},
   "outputs": [
    {
     "data": {
      "text/plain": [
       "'HAHa'"
      ]
     },
     "execution_count": 20,
     "metadata": {},
     "output_type": "execute_result"
    }
   ],
   "source": [
    "c = 'Joker'\n",
    "d = 'HAHa'\n",
    "min(c,d)"
   ]
  },
  {
   "cell_type": "markdown",
   "metadata": {},
   "source": [
    "## 下角标运算符 []\n",
    "- 一个字符串是一个字符序列，可以通过索引进行访问\n",
    "- 观察字符串是否是一个可迭代序列  \\__iter__"
   ]
  },
  {
   "cell_type": "code",
   "execution_count": 36,
   "metadata": {},
   "outputs": [
    {
     "name": "stdout",
     "output_type": "stream",
     "text": [
      "J\n",
      "o\n",
      "k\n",
      "e\n",
      "r\n"
     ]
    }
   ],
   "source": [
    "for i in 'Joker':\n",
    "    print(i)"
   ]
  },
  {
   "cell_type": "code",
   "execution_count": 40,
   "metadata": {
    "scrolled": true
   },
   "outputs": [
    {
     "name": "stdout",
     "output_type": "stream",
     "text": [
      "J\n",
      "o\n",
      "k\n",
      "e\n",
      "r\n"
     ]
    }
   ],
   "source": [
    "c = 'Joker'\n",
    "\n",
    "i = 0\n",
    "while i< len(c):\n",
    "    print(c[i])\n",
    "    i += 1"
   ]
  },
  {
   "cell_type": "markdown",
   "metadata": {},
   "source": [
    "## 切片 [start: end]\n",
    "- start 默认值为0\n",
    "- end 默认值为-1"
   ]
  },
  {
   "cell_type": "markdown",
   "metadata": {},
   "source": [
    "1. 和for loop 一样,如果步长为正,那么start < end\n",
    "2. 如果步长为负,那么start> end\n",
    "3. 如果想要整体反转(左右),[::-1]"
   ]
  },
  {
   "cell_type": "code",
   "execution_count": 181,
   "metadata": {},
   "outputs": [],
   "source": [
    "def Search(name):\n",
    "    path = '/Users/huwang/Downloads/mail.txt'\n",
    "    with open(file=path,mode='r') as f:\n",
    "        for i in range(10):\n",
    "            line = f.readline()\n",
    "            print(line.strip('\\n'))"
   ]
  },
  {
   "cell_type": "code",
   "execution_count": 182,
   "metadata": {},
   "outputs": [
    {
     "name": "stdout",
     "output_type": "stream",
     "text": [
      "kcqer@vip.qq.com\n",
      "4750082@qq.com\n",
      "beyond.w@qq.com\n",
      "326719610@qq.com\n",
      "519203740@qq.com\n",
      "41654522@.qq.com\n",
      "258109664@qq.com\n",
      "www.372968559@qq.com\n",
      "690326585@qq.com\n",
      "yilvwen@qq.com\n"
     ]
    }
   ],
   "source": [
    "Search('kcqer')"
   ]
  },
  {
   "cell_type": "markdown",
   "metadata": {},
   "source": [
    "## 链接运算符 + 和复制运算符 *\n",
    "- \\+ 链接多个字符串，同时''.join()也是\n",
    "- \\* 复制多个字符串"
   ]
  },
  {
   "cell_type": "code",
   "execution_count": 92,
   "metadata": {
    "collapsed": true
   },
   "outputs": [
    {
     "name": "stdout",
     "output_type": "stream",
     "text": [
      "http://www.4399dmw.com/list-273-2.html\n",
      "http://www.4399dmw.com/list-273-3.html\n",
      "http://www.4399dmw.com/list-273-4.html\n",
      "http://www.4399dmw.com/list-273-5.html\n",
      "http://www.4399dmw.com/list-273-6.html\n",
      "http://www.4399dmw.com/list-273-7.html\n"
     ]
    }
   ],
   "source": [
    "for i in range(2,8):\n",
    "    url='http://www.4399dmw.com/list-273-'+str(i)+'.html'\n",
    "    print(url)"
   ]
  },
  {
   "cell_type": "markdown",
   "metadata": {},
   "source": [
    "## in 和 not in 运算符\n",
    "- in :判断某个字符是否在字符串内 \n",
    "- not in ：判断某个字符是否不在字符串内\n",
    "- 返回的是布尔值"
   ]
  },
  {
   "cell_type": "code",
   "execution_count": 97,
   "metadata": {},
   "outputs": [
    {
     "data": {
      "text/plain": [
       "False"
      ]
     },
     "execution_count": 97,
     "metadata": {},
     "output_type": "execute_result"
    }
   ],
   "source": [
    "'Jo' not in 'Joker'"
   ]
  },
  {
   "cell_type": "markdown",
   "metadata": {},
   "source": [
    "## 比较字符串\n",
    "-  ==, !=, >=, <=, >, <\n",
    "- 依照ASCII码值进行比较"
   ]
  },
  {
   "cell_type": "code",
   "execution_count": 99,
   "metadata": {},
   "outputs": [
    {
     "data": {
      "text/plain": [
       "False"
      ]
     },
     "execution_count": 99,
     "metadata": {},
     "output_type": "execute_result"
    }
   ],
   "source": [
    "'a' >= 'b'"
   ]
  },
  {
   "cell_type": "markdown",
   "metadata": {},
   "source": [
    "## 测试字符串\n",
    "![](../Photo/99.png)\n",
    "- 注意：\n",
    "> - isalnum() 中是不能包含空格，否则会返回False"
   ]
  },
  {
   "cell_type": "code",
   "execution_count": 122,
   "metadata": {},
   "outputs": [
    {
     "name": "stdout",
     "output_type": "stream",
     "text": [
      ":>>Joker12346786554\n"
     ]
    }
   ],
   "source": [
    "password = input(':>>')\n",
    "N1 = 0 # 大写\n",
    "N2 = 0 # 小写\n",
    "N3 = 0 # 数字\n",
    "if len(password) <= 8:\n",
    "    print('密码必须大于8位')\n",
    "for i in password:\n",
    "    if i.isupper():\n",
    "        N1 += 1\n",
    "    if i.islower():\n",
    "        N2 += 1\n",
    "    if i.isdigit():\n",
    "        N3 += 1\n",
    "if N1 == 0:\n",
    "    print('密码必须有大写')\n",
    "if N2 == 0:\n",
    "    print('密码必须有小写')\n",
    "if N3 == 0:\n",
    "    print('密码必须含有数字')"
   ]
  },
  {
   "cell_type": "code",
   "execution_count": 118,
   "metadata": {},
   "outputs": [
    {
     "data": {
      "text/plain": [
       "False"
      ]
     },
     "execution_count": 118,
     "metadata": {},
     "output_type": "execute_result"
    }
   ],
   "source": [
    "'Joker12445'.isupper()"
   ]
  },
  {
   "cell_type": "markdown",
   "metadata": {},
   "source": [
    "## 搜索子串\n",
    "![](../Photo/100.png)"
   ]
  },
  {
   "cell_type": "code",
   "execution_count": 133,
   "metadata": {},
   "outputs": [
    {
     "data": {
      "text/plain": [
       "-1"
      ]
     },
     "execution_count": 133,
     "metadata": {},
     "output_type": "execute_result"
    }
   ],
   "source": [
    "b = '刘丽丽,刚刚吃东西,还不ca嘴'\n",
    "b.find('刘美美')"
   ]
  },
  {
   "cell_type": "code",
   "execution_count": 135,
   "metadata": {},
   "outputs": [
    {
     "data": {
      "text/plain": [
       "2"
      ]
     },
     "execution_count": 135,
     "metadata": {},
     "output_type": "execute_result"
    }
   ],
   "source": [
    "b.rfind('丽')"
   ]
  },
  {
   "cell_type": "markdown",
   "metadata": {},
   "source": [
    "## 转换字符串\n",
    "![](../Photo/101.png)"
   ]
  },
  {
   "cell_type": "code",
   "execution_count": 177,
   "metadata": {},
   "outputs": [
    {
     "name": "stdout",
     "output_type": "stream",
     "text": [
      " LI Li LIU\n"
     ]
    },
    {
     "data": {
      "text/plain": [
       "' LI Li '"
      ]
     },
     "execution_count": 177,
     "metadata": {},
     "output_type": "execute_result"
    }
   ],
   "source": [
    "a = ' LI Li LIU'\n",
    "print(a)\n",
    "a.strip('LIU')"
   ]
  },
  {
   "cell_type": "markdown",
   "metadata": {},
   "source": [
    "## 删除字符串\n",
    "![](../Photo/146.png)"
   ]
  },
  {
   "cell_type": "markdown",
   "metadata": {},
   "source": [
    "## 格式化字符串\n",
    "![](../Photo/103.png)"
   ]
  },
  {
   "cell_type": "markdown",
   "metadata": {},
   "source": [
    "## EP:\n",
    "- 1\n",
    "![](../Photo/104.png)\n",
    "- 2 \n",
    "    随机参数100个数字，将www.baidu.com/?page=进行拼接"
   ]
  },
  {
   "cell_type": "code",
   "execution_count": 11,
   "metadata": {},
   "outputs": [
    {
     "data": {
      "text/plain": [
       "' '"
      ]
     },
     "execution_count": 11,
     "metadata": {},
     "output_type": "execute_result"
    }
   ],
   "source": [
    "s1 = \"Welcome to Python\"\n",
    "min(s1)"
   ]
  },
  {
   "cell_type": "code",
   "execution_count": 12,
   "metadata": {},
   "outputs": [
    {
     "data": {
      "text/plain": [
       "32"
      ]
     },
     "execution_count": 12,
     "metadata": {},
     "output_type": "execute_result"
    }
   ],
   "source": [
    "ord(' ')"
   ]
  },
  {
   "cell_type": "code",
   "execution_count": 8,
   "metadata": {},
   "outputs": [
    {
     "data": {
      "text/plain": [
       "True"
      ]
     },
     "execution_count": 8,
     "metadata": {},
     "output_type": "execute_result"
    }
   ],
   "source": [
    "a = 'abcea'\n",
    "b = 'abcea'\n",
    "id(a) == id(b)"
   ]
  },
  {
   "cell_type": "markdown",
   "metadata": {},
   "source": [
    "## Python高级使用方法 -- 字符串\n",
    "- 我们经常使用的方法实际上就是调用Python的运算重载\n",
    "![](../Photo/105.png)"
   ]
  },
  {
   "cell_type": "code",
   "execution_count": 13,
   "metadata": {},
   "outputs": [
    {
     "data": {
      "text/plain": [
       "'ab'"
      ]
     },
     "execution_count": 13,
     "metadata": {},
     "output_type": "execute_result"
    }
   ],
   "source": [
    "a = 'a'\n",
    "b = 'b'\n",
    "a + b"
   ]
  },
  {
   "cell_type": "code",
   "execution_count": 15,
   "metadata": {},
   "outputs": [
    {
     "data": {
      "text/plain": [
       "'aaaaaaaaaa'"
      ]
     },
     "execution_count": 15,
     "metadata": {},
     "output_type": "execute_result"
    }
   ],
   "source": [
    "a.__mul__(10) # a * 10"
   ]
  },
  {
   "cell_type": "markdown",
   "metadata": {},
   "source": [
    "# Homework\n",
    "- 1\n",
    "![](../Photo/106.png)"
   ]
  },
  {
   "cell_type": "code",
   "execution_count": 9,
   "metadata": {},
   "outputs": [
    {
     "name": "stdout",
     "output_type": "stream",
     "text": [
      "请按照格式ddd-dd-dddd输入社会安全号码：123-45-6789\n",
      "Vali SSN!\n"
     ]
    }
   ],
   "source": [
    "input_ = input('请按照格式ddd-dd-dddd输入社会安全号码：')\n",
    "def dmm(num_1):  '''num_1是传入的字符串'''\n",
    "    S = '0123456789'\n",
    "    num_2 = len(num_1)   '''num_2是字符串的长度'''\n",
    "    if num_2 == 11:\n",
    "        for i in range(3):\n",
    "            if num_1[i] not in S:\n",
    "                print('Invalid SSN!')\n",
    "                break\n",
    "                if num_1[3]!='-':\n",
    "                    print('Invalid SSN!')\n",
    "                    break\n",
    "                    for j in range(4,6):\n",
    "                        if num_1[j] not in S:\n",
    "                            print('Invalid SSN!')\n",
    "                            break\n",
    "                            if num_1[6]!='-':\n",
    "                                print('Invalid SSN!')\n",
    "                                break\n",
    "                                for k in range(7,11):\n",
    "                                    if num_1[k] not in S:\n",
    "                                        print('Invalid SSN!')\n",
    "                                        break\n",
    "        else:\n",
    "                                        print('Vali SSN!')\n",
    "    else:\n",
    "        print('Invalid SSN!')\n",
    "                                \n",
    "dmm(input_)"
   ]
  },
  {
   "cell_type": "markdown",
   "metadata": {},
   "source": [
    "- 2\n",
    "![](../Photo/107.png)"
   ]
  },
  {
   "cell_type": "code",
   "execution_count": 3,
   "metadata": {},
   "outputs": [
    {
     "name": "stdout",
     "output_type": "stream",
     "text": [
      "请输入字符串：hj\n",
      "请输入字符串：vbjfhdjd\n",
      "第一个字符串不是第二个字符串的子串！\n"
     ]
    }
   ],
   "source": [
    "input_1=input('请输入字符串：')  \n",
    "input_2=input('请输入字符串：')  \n",
    "def String_(a,b):                 '''a就等于inpu_1代表输入的第一串字符,b就等于input_2代表输入的第二串字符'''\n",
    "    location = b.find(a)\n",
    "    if location == -1:            '''location用来存放子串的位置'''\n",
    "        print('第一个字符串不是第二个字符串的子串！')\n",
    "    else:\n",
    "        print('第二个字符串是第一个字符串的子串！')\n",
    "String_(input_1,input_2)"
   ]
  },
  {
   "cell_type": "markdown",
   "metadata": {},
   "source": [
    "- 3\n",
    "![](../Photo/108.png)"
   ]
  },
  {
   "cell_type": "code",
   "execution_count": 53,
   "metadata": {},
   "outputs": [
    {
     "name": "stdout",
     "output_type": "stream",
     "text": [
      "请输入密码：123cvbn#\n",
      "invalid password!\n"
     ]
    }
   ],
   "source": [
    "input_=input('请输入密码：')\n",
    "def passwd(str_):\n",
    "    Z = 'qwertyuioplkjhgfdsazxcvbnmMNBVCXZASDFGHJKLPOIUYTREWQ'\n",
    "    S = '0123456789'\n",
    "    count_1 = False  '''用来判断是否含有字母'''\n",
    "    count_2 = False  '''用来判断是否含有数字'''\n",
    "    count_3 = True   '''用来判断是否含有特殊字符'''\n",
    "    count_4 = 0      '''用来统计数字的个数'''\n",
    "    if len(str_)>=8:   '''str是传入的字符串'''\n",
    "        for i in str_:  \n",
    "            if i in Z:\n",
    "                count_1 = True\n",
    "            elif i in S:\n",
    "                count_2 = True\n",
    "                count_4 += 1\n",
    "            else:\n",
    "                count_3 = False\n",
    "        if count_1 and count_2 and count_3 and count_4>=2:\n",
    "            print('valid password!')\n",
    "        else:\n",
    "            print('invalid password!')\n",
    "            \n",
    "    else:\n",
    "        print('您的密码不安全！')\n",
    "passwd(input_)"
   ]
  },
  {
   "cell_type": "markdown",
   "metadata": {},
   "source": [
    "- 4\n",
    "![](../Photo/109.png)"
   ]
  },
  {
   "cell_type": "code",
   "execution_count": 63,
   "metadata": {},
   "outputs": [
    {
     "name": "stdout",
     "output_type": "stream",
     "text": [
      "请输入字符串：hgryfgpr54886\n",
      "该字符串中的字母数为8\n"
     ]
    }
   ],
   "source": [
    "sr = input('请输入字符串：')\n",
    "def countLetters(s):  '''s就等于sr传入的字符串'''\n",
    "    Z = 'qwertyuioplkjhgfdsazxcvbnmMNBVCXZLKJHGFDSAPOIUYTREWQ'\n",
    "    count = 0   '''用来统计字符中字母的个数'''\n",
    "    for i in s:\n",
    "        if i in Z:\n",
    "            count += 1\n",
    "    print('该字符串中的字母数为%d'%count)\n",
    "countLetters(sr)"
   ]
  },
  {
   "cell_type": "markdown",
   "metadata": {},
   "source": [
    "- 5\n",
    "![](../Photo/110.png)"
   ]
  },
  {
   "cell_type": "code",
   "execution_count": 48,
   "metadata": {},
   "outputs": [
    {
     "name": "stdout",
     "output_type": "stream",
     "text": [
      "Enter a string:1-800-Flowers\n",
      "1-800-3569377"
     ]
    }
   ],
   "source": [
    "sr = input('Enter a string:')\n",
    "sr1 = sr.lower()    '''将字符串中的大写字母转换为小写字母，sr1是转换后的字符串'''\n",
    "def getNumber(uppercaseLetter):   '''uppercaseLetter就等于sr代表传入的字符串'''\n",
    "    zf = 'qwertyuiopasdfghjklzxcvbnmQWERTYUIOPLKJHGFDSAZXCVBNM'\n",
    "    for i in sr1:\n",
    "        if i in zf: \n",
    "            if i=='a' or i=='b' or i=='c':\n",
    "                print('2',end=\"\")\n",
    "            elif i=='d' or i=='e' or i == 'f':\n",
    "                print('3',end=\"\")\n",
    "            elif i == 'g' or i =='h' or i=='i':\n",
    "                print('4',end=\"\")\n",
    "            elif i=='j' or i=='k' or i=='l':\n",
    "                print('5',end=\"\")\n",
    "            elif i=='m' or i=='n' or i=='o':\n",
    "                print('6',end=\"\")\n",
    "            elif i=='p' or i=='q' or i=='r' or i=='s':\n",
    "                 print('7',end=\"\")\n",
    "            elif i=='t' or i=='u' or i=='f':\n",
    "                 print('8',end=\"\")\n",
    "            elif i=='w' or i=='x' or i=='y' or i=='z':\n",
    "                 print('9',end=\"\")\n",
    "        else:\n",
    "            print(i,end=\"\")\n",
    "        \n",
    "getNumber(sr1)\n",
    "   \n",
    "    "
   ]
  },
  {
   "cell_type": "markdown",
   "metadata": {},
   "source": [
    "- 6\n",
    "![](../Photo/111.png)"
   ]
  },
  {
   "cell_type": "code",
   "execution_count": 46,
   "metadata": {},
   "outputs": [
    {
     "name": "stdout",
     "output_type": "stream",
     "text": [
      "请输入一个字符串：fdafr\n",
      "r f a d f\n"
     ]
    }
   ],
   "source": [
    "sr = input('请输入一个字符串：')  \n",
    "def reverse(s):           '''s就等于sr代表传入的字符串'''\n",
    "    list_ = list(sr)      '''将字符串转换为列表'''\n",
    "    list_.reverse()\n",
    "    str_=' '.join(list_)  '''将列表元素放入空字符串'''\n",
    "    print(str_)\n",
    "reverse(sr)"
   ]
  },
  {
   "cell_type": "markdown",
   "metadata": {},
   "source": [
    "- 7\n",
    "![](../Photo/112.png)"
   ]
  },
  {
   "cell_type": "markdown",
   "metadata": {},
   "source": [
    "- 8\n",
    "![](../Photo/113.png)"
   ]
  },
  {
   "cell_type": "code",
   "execution_count": 81,
   "metadata": {},
   "outputs": [
    {
     "name": "stdout",
     "output_type": "stream",
     "text": [
      "Enter the first 12 digits of an ISBN-13 as a string:978013213080\n",
      "The ISBN-13 number is 9780132130806\n"
     ]
    }
   ],
   "source": [
    "input_ = input('Enter the first 12 digits of an ISBN-13 as a string:')\n",
    "def ISBN(n):         '''inout_是传入的字符串'''\n",
    "    sum = 0          '''和的存放变量'''         \n",
    "    num_1=0          '''用来判断奇偶数'''\n",
    "    if len(input_)== n:\n",
    "            for j in input_:\n",
    "                num_1+=1\n",
    "                if num_1%2!=0:\n",
    "                    sum = sum + int(j)\n",
    "                else:\n",
    "                    sum = sum + (3 * int(j))\n",
    "            num_2 = 10 - sum % 10              '''存放校验和的变量'''\n",
    "            if num_2 == 10:\n",
    "                print('The ISBN-13 number is %s%d'%(input_,0))\n",
    "            else:\n",
    "                print('The ISBN-13 number is %s%d'%(input_,num_2)) \n",
    "    else:\n",
    "        print('输入有误！')\n",
    "ISBN(12)"
   ]
  },
  {
   "cell_type": "markdown",
   "metadata": {},
   "source": [
    "- 9\n",
    "![](../Photo/114.png)"
   ]
  },
  {
   "cell_type": "code",
   "execution_count": null,
   "metadata": {},
   "outputs": [],
   "source": []
  }
 ],
 "metadata": {
  "kernelspec": {
   "display_name": "Python 3",
   "language": "python",
   "name": "python3"
  },
  "language_info": {
   "codemirror_mode": {
    "name": "ipython",
    "version": 3
   },
   "file_extension": ".py",
   "mimetype": "text/x-python",
   "name": "python",
   "nbconvert_exporter": "python",
   "pygments_lexer": "ipython3",
   "version": "3.7.3"
  }
 },
 "nbformat": 4,
 "nbformat_minor": 2
}
